{
 "cells": [
  {
   "cell_type": "code",
   "execution_count": 2,
   "id": "d757e336-7b98-44af-ae16-716b15d446bc",
   "metadata": {},
   "outputs": [
    {
     "name": "stdout",
     "output_type": "stream",
     "text": [
      "Requirement already satisfied: pymongo in /opt/conda/lib/python3.11/site-packages (4.10.1)\n",
      "Requirement already satisfied: dnspython<3.0.0,>=1.16.0 in /opt/conda/lib/python3.11/site-packages (from pymongo) (2.7.0)\n",
      "Requirement already satisfied: dnspython in /opt/conda/lib/python3.11/site-packages (2.7.0)\n",
      "The image captures a vibrant scene from a concert at The O2 Arena in London, UK. The stage is bathed in bright lights against a backdrop of a large screen displaying an abstract design with hues of blue and red. \n",
      "\n",
      "On the stage, there are three musicians engrossed in their performance. Two of them are strumming guitars while the third one is energetically drumming on the drums. Their positions suggest they are in the middle of a song, possibly performing a popular hit.\n",
      "\n",
      "The audience, visible in the foreground, appears to be thoroughly enjoying the concert. Many of them are holding up their phones, capturing moments from the performance and sharing it with others who couldn't make it to the venue.\n",
      "\n",
      "The image is taken from an angle that provides a clear view of both the stage and the audience, creating a dynamic composition that encapsulates the excitement and energy of a live music concert.\n"
     ]
    }
   ],
   "source": [
    "!pip install pymongo\n",
    "!pip install dnspython\n",
    "\n",
    "import os\n",
    "from pymongo import MongoClient\n",
    "\n",
    "connection_string = os.environ.get('ConnectionStrings__photo-search')\n",
    "client = MongoClient(connection_string)\n",
    "db = client['photo-search']\n",
    "# # List all collections\n",
    "# collections = db.list_collection_names()\n",
    "\n",
    "# print(\"Collections in tåe database:\")\n",
    "# for collection_name in collections:\n",
    "#     print(collection_name)\n",
    "\n",
    "collection = db['photos']\n",
    "documents = collection.find()\n",
    "\n",
    "print(documents[0]['PhotoSummaries']['llava-llama3']['Description'])\n",
    "    "
   ]
  },
  {
   "cell_type": "code",
   "execution_count": 3,
   "id": "ed5b8cc7-71fa-46e6-a7da-22b42e741edf",
   "metadata": {},
   "outputs": [
    {
     "name": "stdout",
     "output_type": "stream",
     "text": [
      "True\n",
      "1\n",
      "0\n"
     ]
    },
    {
     "data": {
      "text/plain": [
       "<torch.cuda.device at 0x7bab8db82f50>"
      ]
     },
     "execution_count": 3,
     "metadata": {},
     "output_type": "execute_result"
    }
   ],
   "source": [
    "\n",
    "import torch\n",
    "\n",
    "print(torch.cuda.is_available())\n",
    "print(torch.cuda.device_count())\n",
    "print(torch.cuda.current_device())\n",
    "torch.cuda.device(0)"
   ]
  },
  {
   "cell_type": "code",
   "execution_count": null,
   "id": "5f2a3306-7e39-404d-be32-c4b947167703",
   "metadata": {},
   "outputs": [],
   "source": []
  }
 ],
 "metadata": {
  "kernelspec": {
   "display_name": "Python 3 (ipykernel)",
   "language": "python",
   "name": "python3"
  },
  "language_info": {
   "codemirror_mode": {
    "name": "ipython",
    "version": 3
   },
   "file_extension": ".py",
   "mimetype": "text/x-python",
   "name": "python",
   "nbconvert_exporter": "python",
   "pygments_lexer": "ipython3",
   "version": "3.11.8"
  }
 },
 "nbformat": 4,
 "nbformat_minor": 5
}
